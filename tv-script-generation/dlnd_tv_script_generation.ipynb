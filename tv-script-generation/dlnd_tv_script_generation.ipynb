{
 "cells": [
  {
   "cell_type": "markdown",
   "metadata": {},
   "source": [
    "# TV Script Generation\n",
    "In this project, you'll generate your own [Simpsons](https://en.wikipedia.org/wiki/The_Simpsons) TV scripts using RNNs.  You'll be using part of the [Simpsons dataset](https://www.kaggle.com/wcukierski/the-simpsons-by-the-data) of scripts from 27 seasons.  The Neural Network you'll build will generate a new TV script for a scene at [Moe's Tavern](https://simpsonswiki.com/wiki/Moe's_Tavern).\n",
    "## Get the Data\n",
    "The data is already provided for you.  You'll be using a subset of the original dataset.  It consists of only the scenes in Moe's Tavern.  This doesn't include other versions of the tavern, like \"Moe's Cavern\", \"Flaming Moe's\", \"Uncle Moe's Family Feed-Bag\", etc.."
   ]
  },
  {
   "cell_type": "code",
   "execution_count": 1,
   "metadata": {
    "collapsed": true
   },
   "outputs": [],
   "source": [
    "\"\"\"\n",
    "DON'T MODIFY ANYTHING IN THIS CELL\n",
    "\"\"\"\n",
    "import helper\n",
    "\n",
    "data_dir = './data/simpsons/moes_tavern_lines.txt'\n",
    "text = helper.load_data(data_dir)\n",
    "# Ignore notice, since we don't use it for analysing the data\n",
    "text = text[81:]"
   ]
  },
  {
   "cell_type": "markdown",
   "metadata": {},
   "source": [
    "## Explore the Data\n",
    "Play around with `view_sentence_range` to view different parts of the data."
   ]
  },
  {
   "cell_type": "code",
   "execution_count": 2,
   "metadata": {},
   "outputs": [
    {
     "name": "stdout",
     "output_type": "stream",
     "text": [
      "Dataset Stats\n",
      "Roughly the number of unique words: 11492\n",
      "Number of scenes: 262\n",
      "Average number of sentences in each scene: 15.248091603053435\n",
      "Number of lines: 4257\n",
      "Average number of words in each line: 11.50434578341555\n",
      "\n",
      "The sentences 0 to 10:\n",
      "Moe_Szyslak: (INTO PHONE) Moe's Tavern. Where the elite meet to drink.\n",
      "Bart_Simpson: Eh, yeah, hello, is Mike there? Last name, Rotch.\n",
      "Moe_Szyslak: (INTO PHONE) Hold on, I'll check. (TO BARFLIES) Mike Rotch. Mike Rotch. Hey, has anybody seen Mike Rotch, lately?\n",
      "Moe_Szyslak: (INTO PHONE) Listen you little puke. One of these days I'm gonna catch you, and I'm gonna carve my name on your back with an ice pick.\n",
      "Moe_Szyslak: What's the matter Homer? You're not your normal effervescent self.\n",
      "Homer_Simpson: I got my problems, Moe. Give me another one.\n",
      "Moe_Szyslak: Homer, hey, you should not drink to forget your problems.\n",
      "Barney_Gumble: Yeah, you should only drink to enhance your social skills.\n",
      "\n",
      "\n"
     ]
    }
   ],
   "source": [
    "view_sentence_range = (0, 10)\n",
    "\n",
    "\"\"\"\n",
    "DON'T MODIFY ANYTHING IN THIS CELL\n",
    "\"\"\"\n",
    "import numpy as np\n",
    "\n",
    "print('Dataset Stats')\n",
    "print('Roughly the number of unique words: {}'.format(len({word: None for word in text.split()})))\n",
    "scenes = text.split('\\n\\n')\n",
    "print('Number of scenes: {}'.format(len(scenes)))\n",
    "sentence_count_scene = [scene.count('\\n') for scene in scenes]\n",
    "print('Average number of sentences in each scene: {}'.format(np.average(sentence_count_scene)))\n",
    "\n",
    "sentences = [sentence for scene in scenes for sentence in scene.split('\\n')]\n",
    "print('Number of lines: {}'.format(len(sentences)))\n",
    "word_count_sentence = [len(sentence.split()) for sentence in sentences]\n",
    "print('Average number of words in each line: {}'.format(np.average(word_count_sentence)))\n",
    "\n",
    "print()\n",
    "print('The sentences {} to {}:'.format(*view_sentence_range))\n",
    "print('\\n'.join(text.split('\\n')[view_sentence_range[0]:view_sentence_range[1]]))"
   ]
  },
  {
   "cell_type": "markdown",
   "metadata": {},
   "source": [
    "## Implement Preprocessing Functions\n",
    "The first thing to do to any dataset is preprocessing.  Implement the following preprocessing functions below:\n",
    "- Lookup Table\n",
    "- Tokenize Punctuation\n",
    "\n",
    "### Lookup Table\n",
    "To create a word embedding, you first need to transform the words to ids.  In this function, create two dictionaries:\n",
    "- Dictionary to go from the words to an id, we'll call `vocab_to_int`\n",
    "- Dictionary to go from the id to word, we'll call `int_to_vocab`\n",
    "\n",
    "Return these dictionaries in the following tuple `(vocab_to_int, int_to_vocab)`"
   ]
  },
  {
   "cell_type": "code",
   "execution_count": 3,
   "metadata": {},
   "outputs": [
    {
     "name": "stdout",
     "output_type": "stream",
     "text": [
      "Tests Passed\n"
     ]
    }
   ],
   "source": [
    "import numpy as np\n",
    "import problem_unittests as tests\n",
    "\n",
    "def create_lookup_tables(text):\n",
    "    \"\"\"\n",
    "    Create lookup tables for vocabulary\n",
    "    :param text: The text of tv scripts split into words\n",
    "    :return: A tuple of dicts (vocab_to_int, int_to_vocab)\n",
    "    \"\"\"\n",
    "    # TODO: Implement Function\n",
    "    new_text = sorted(list(set(text)))\n",
    "    vocab_to_int = dict((word,index) for index, word in enumerate(new_text))\n",
    "    int_to_vocab = dict((index,word) for index, word in enumerate(new_text))\n",
    "    return vocab_to_int, int_to_vocab\n",
    "\n",
    "\n",
    "\"\"\"\n",
    "DON'T MODIFY ANYTHING IN THIS CELL THAT IS BELOW THIS LINE\n",
    "\"\"\"\n",
    "tests.test_create_lookup_tables(create_lookup_tables)"
   ]
  },
  {
   "cell_type": "markdown",
   "metadata": {},
   "source": [
    "### Tokenize Punctuation\n",
    "We'll be splitting the script into a word array using spaces as delimiters.  However, punctuations like periods and exclamation marks make it hard for the neural network to distinguish between the word \"bye\" and \"bye!\".\n",
    "\n",
    "Implement the function `token_lookup` to return a dict that will be used to tokenize symbols like \"!\" into \"||Exclamation_Mark||\".  Create a dictionary for the following symbols where the symbol is the key and value is the token:\n",
    "- Period ( . )\n",
    "- Comma ( , )\n",
    "- Quotation Mark ( \" )\n",
    "- Semicolon ( ; )\n",
    "- Exclamation mark ( ! )\n",
    "- Question mark ( ? )\n",
    "- Left Parentheses ( ( )\n",
    "- Right Parentheses ( ) )\n",
    "- Dash ( -- )\n",
    "- Return ( \\n )\n",
    "\n",
    "This dictionary will be used to token the symbols and add the delimiter (space) around it.  This separates the symbols as it's own word, making it easier for the neural network to predict on the next word. Make sure you don't use a token that could be confused as a word. Instead of using the token \"dash\", try using something like \"||dash||\"."
   ]
  },
  {
   "cell_type": "code",
   "execution_count": 4,
   "metadata": {},
   "outputs": [
    {
     "name": "stdout",
     "output_type": "stream",
     "text": [
      "Tests Passed\n"
     ]
    }
   ],
   "source": [
    "def token_lookup():\n",
    "    \"\"\"\n",
    "    Generate a dict to turn punctuation into a token.\n",
    "    :return: Tokenize dictionary where the key is the punctuation and the value is the token\n",
    "    \"\"\"\n",
    "    # TODO: Implement Function\n",
    "    key = {'.',',','\"',';','!','?','(',')','--','\\n'}\n",
    "    value = {\"||Peroid||\",\"||Comma||\",\"||QuotationMark||\",\"||Semicolon||\",\"||ExclamationMark||\",\"||QuestionMark||\",\"||LeftParentheses||\",\"||RightParentheses||\",\"||Dash||\",\"||Return||\"}\n",
    "    return dict(zip(key,value))\n",
    "\n",
    "\"\"\"\n",
    "DON'T MODIFY ANYTHING IN THIS CELL THAT IS BELOW THIS LINE\n",
    "\"\"\"\n",
    "tests.test_tokenize(token_lookup)"
   ]
  },
  {
   "cell_type": "markdown",
   "metadata": {},
   "source": [
    "## Preprocess all the data and save it\n",
    "Running the code cell below will preprocess all the data and save it to file."
   ]
  },
  {
   "cell_type": "code",
   "execution_count": 5,
   "metadata": {
    "collapsed": true
   },
   "outputs": [],
   "source": [
    "\"\"\"\n",
    "DON'T MODIFY ANYTHING IN THIS CELL\n",
    "\"\"\"\n",
    "# Preprocess Training, Validation, and Testing Data\n",
    "helper.preprocess_and_save_data(data_dir, token_lookup, create_lookup_tables)"
   ]
  },
  {
   "cell_type": "markdown",
   "metadata": {},
   "source": [
    "# Check Point\n",
    "This is your first checkpoint. If you ever decide to come back to this notebook or have to restart the notebook, you can start from here. The preprocessed data has been saved to disk."
   ]
  },
  {
   "cell_type": "code",
   "execution_count": 6,
   "metadata": {
    "collapsed": true
   },
   "outputs": [],
   "source": [
    "\"\"\"\n",
    "DON'T MODIFY ANYTHING IN THIS CELL\n",
    "\"\"\"\n",
    "import helper\n",
    "import numpy as np\n",
    "import problem_unittests as tests\n",
    "\n",
    "int_text, vocab_to_int, int_to_vocab, token_dict = helper.load_preprocess()"
   ]
  },
  {
   "cell_type": "markdown",
   "metadata": {},
   "source": [
    "## Build the Neural Network\n",
    "You'll build the components necessary to build a RNN by implementing the following functions below:\n",
    "- get_inputs\n",
    "- get_init_cell\n",
    "- get_embed\n",
    "- build_rnn\n",
    "- build_nn\n",
    "- get_batches\n",
    "\n",
    "### Check the Version of TensorFlow and Access to GPU"
   ]
  },
  {
   "cell_type": "code",
   "execution_count": 7,
   "metadata": {},
   "outputs": [
    {
     "name": "stdout",
     "output_type": "stream",
     "text": [
      "TensorFlow Version: 1.1.0\n",
      "Default GPU Device: /gpu:0\n"
     ]
    }
   ],
   "source": [
    "\"\"\"\n",
    "DON'T MODIFY ANYTHING IN THIS CELL\n",
    "\"\"\"\n",
    "from distutils.version import LooseVersion\n",
    "import warnings\n",
    "import tensorflow as tf\n",
    "\n",
    "# Check TensorFlow Version\n",
    "assert LooseVersion(tf.__version__) >= LooseVersion('1.0'), 'Please use TensorFlow version 1.0 or newer'\n",
    "print('TensorFlow Version: {}'.format(tf.__version__))\n",
    "\n",
    "# Check for a GPU\n",
    "if not tf.test.gpu_device_name():\n",
    "    warnings.warn('No GPU found. Please use a GPU to train your neural network.')\n",
    "else:\n",
    "    print('Default GPU Device: {}'.format(tf.test.gpu_device_name()))"
   ]
  },
  {
   "cell_type": "markdown",
   "metadata": {},
   "source": [
    "### Input\n",
    "Implement the `get_inputs()` function to create TF Placeholders for the Neural Network.  It should create the following placeholders:\n",
    "- Input text placeholder named \"input\" using the [TF Placeholder](https://www.tensorflow.org/api_docs/python/tf/placeholder) `name` parameter.\n",
    "- Targets placeholder\n",
    "- Learning Rate placeholder\n",
    "\n",
    "Return the placeholders in the following tuple `(Input, Targets, LearningRate)`"
   ]
  },
  {
   "cell_type": "code",
   "execution_count": 8,
   "metadata": {},
   "outputs": [
    {
     "name": "stdout",
     "output_type": "stream",
     "text": [
      "Tests Passed\n"
     ]
    }
   ],
   "source": [
    "def get_inputs():\n",
    "    \"\"\"\n",
    "    Create TF Placeholders for input, targets, and learning rate.\n",
    "    :return: Tuple (input, targets, learning rate)\n",
    "    \"\"\"\n",
    "    # TODO: Implement Function\n",
    "    inputs = tf.placeholder(dtype=tf.int32,shape=(None,None),name=\"input\")\n",
    "    targets = tf.placeholder(dtype=tf.int32,shape=(None,None),name=\"targets\")\n",
    "    learning_rate = tf.placeholder(dtype=tf.float32,shape=None,name=\"learning_rate\")\n",
    "    return inputs, targets, learning_rate\n",
    "\n",
    "\n",
    "\"\"\"\n",
    "DON'T MODIFY ANYTHING IN THIS CELL THAT IS BELOW THIS LINE\n",
    "\"\"\"\n",
    "tests.test_get_inputs(get_inputs)"
   ]
  },
  {
   "cell_type": "markdown",
   "metadata": {},
   "source": [
    "### Build RNN Cell and Initialize\n",
    "Stack one or more [`BasicLSTMCells`](https://www.tensorflow.org/api_docs/python/tf/contrib/rnn/BasicLSTMCell) in a [`MultiRNNCell`](https://www.tensorflow.org/api_docs/python/tf/contrib/rnn/MultiRNNCell).\n",
    "- The Rnn size should be set using `rnn_size`\n",
    "- Initalize Cell State using the MultiRNNCell's [`zero_state()`](https://www.tensorflow.org/api_docs/python/tf/contrib/rnn/MultiRNNCell#zero_state) function\n",
    "    - Apply the name \"initial_state\" to the initial state using [`tf.identity()`](https://www.tensorflow.org/api_docs/python/tf/identity)\n",
    "\n",
    "Return the cell and initial state in the following tuple `(Cell, InitialState)`"
   ]
  },
  {
   "cell_type": "code",
   "execution_count": 9,
   "metadata": {},
   "outputs": [
    {
     "name": "stdout",
     "output_type": "stream",
     "text": [
      "Tests Passed\n"
     ]
    }
   ],
   "source": [
    "def get_init_cell(batch_size, rnn_size):\n",
    "    \"\"\"\n",
    "    Create an RNN Cell and initialize it.\n",
    "    :param batch_size: Size of batches\n",
    "    :param rnn_size: Size of RNNs\n",
    "    :return: Tuple (cell, initialize state)\n",
    "    \"\"\"\n",
    "    layers = 2\n",
    "    # TODO: Implement Function\n",
    "    cell = tf.contrib.rnn.BasicLSTMCell(rnn_size)\n",
    "    cell =  tf.contrib.rnn.MultiRNNCell([cell])\n",
    "    zero_state_cell = cell.zero_state(batch_size,dtype=tf.float32)\n",
    "    initialize_state = tf.identity(zero_state_cell,name=\"initial_state\")\n",
    "    return cell, initialize_state\n",
    "\n",
    "\n",
    "\"\"\"\n",
    "DON'T MODIFY ANYTHING IN THIS CELL THAT IS BELOW THIS LINE\n",
    "\"\"\"\n",
    "tests.test_get_init_cell(get_init_cell)"
   ]
  },
  {
   "cell_type": "markdown",
   "metadata": {},
   "source": [
    "### Word Embedding\n",
    "Apply embedding to `input_data` using TensorFlow.  Return the embedded sequence."
   ]
  },
  {
   "cell_type": "code",
   "execution_count": 10,
   "metadata": {},
   "outputs": [
    {
     "name": "stdout",
     "output_type": "stream",
     "text": [
      "Tests Passed\n"
     ]
    }
   ],
   "source": [
    "def get_embed(input_data, vocab_size, embed_dim):\n",
    "    \"\"\"\n",
    "    Create embedding for <input_data>.\n",
    "    :param input_data: TF placeholder for text input.\n",
    "    :param vocab_size: Number of words in vocabulary.\n",
    "    :param embed_dim: Number of embedding dimensions\n",
    "    :return: Embedded input.\n",
    "    \"\"\"\n",
    "    # TODO: Implement Function\n",
    "    embedding = tf.Variable(tf.random_uniform((vocab_size,embed_dim),-1,1))\n",
    "    embedded_input = tf.nn.embedding_lookup(embedding,input_data)\n",
    "    return embedded_input\n",
    "\n",
    "\n",
    "\"\"\"\n",
    "DON'T MODIFY ANYTHING IN THIS CELL THAT IS BELOW THIS LINE\n",
    "\"\"\"\n",
    "tests.test_get_embed(get_embed)"
   ]
  },
  {
   "cell_type": "markdown",
   "metadata": {},
   "source": [
    "### Build RNN\n",
    "You created a RNN Cell in the `get_init_cell()` function.  Time to use the cell to create a RNN.\n",
    "- Build the RNN using the [`tf.nn.dynamic_rnn()`](https://www.tensorflow.org/api_docs/python/tf/nn/dynamic_rnn)\n",
    " - Apply the name \"final_state\" to the final state using [`tf.identity()`](https://www.tensorflow.org/api_docs/python/tf/identity)\n",
    "\n",
    "Return the outputs and final_state state in the following tuple `(Outputs, FinalState)` "
   ]
  },
  {
   "cell_type": "code",
   "execution_count": 11,
   "metadata": {},
   "outputs": [
    {
     "name": "stdout",
     "output_type": "stream",
     "text": [
      "Tests Passed\n"
     ]
    }
   ],
   "source": [
    "def build_rnn(cell, inputs):\n",
    "    \"\"\"\n",
    "    Create a RNN using a RNN Cell\n",
    "    :param cell: RNN Cell\n",
    "    :param inputs: Input text data\n",
    "    :return: Tuple (Outputs, Final State)\n",
    "    \"\"\"\n",
    "    # TODO: Implement Function\n",
    "    outputs, state = tf.nn.dynamic_rnn(cell,inputs,dtype=tf.float32)\n",
    "    final_state = tf.identity(state,name=\"final_state\")\n",
    "    return outputs, final_state\n",
    "\n",
    "\n",
    "\"\"\"\n",
    "DON'T MODIFY ANYTHING IN THIS CELL THAT IS BELOW THIS LINE\n",
    "\"\"\"\n",
    "tests.test_build_rnn(build_rnn)"
   ]
  },
  {
   "cell_type": "markdown",
   "metadata": {},
   "source": [
    "### Build the Neural Network\n",
    "Apply the functions you implemented above to:\n",
    "- Apply embedding to `input_data` using your `get_embed(input_data, vocab_size, embed_dim)` function.\n",
    "- Build RNN using `cell` and your `build_rnn(cell, inputs)` function.\n",
    "- Apply a fully connected layer with a linear activation and `vocab_size` as the number of outputs.\n",
    "\n",
    "Return the logits and final state in the following tuple (Logits, FinalState) "
   ]
  },
  {
   "cell_type": "code",
   "execution_count": 12,
   "metadata": {},
   "outputs": [
    {
     "name": "stdout",
     "output_type": "stream",
     "text": [
      "Tests Passed\n"
     ]
    }
   ],
   "source": [
    "def build_nn(cell, rnn_size, input_data, vocab_size, embed_dim):\n",
    "    \"\"\"\n",
    "    Build part of the neural network\n",
    "    :param cell: RNN cell\n",
    "    :param rnn_size: Size of rnns\n",
    "    :param input_data: Input data\n",
    "    :param vocab_size: Vocabulary size\n",
    "    :param embed_dim: Number of embedding dimensions\n",
    "    :return: Tuple (Logits, FinalState)\n",
    "    \"\"\"\n",
    "    # TODO: Implement Function\n",
    "    embeded_input = get_embed(input_data, vocab_size, rnn_size)\n",
    "    outputs, final_state = build_rnn(cell,embeded_input)\n",
    "    number_of_outputs = vocab_size\n",
    "    logits = tf.contrib.layers.fully_connected(outputs,number_of_outputs,activation_fn=None)\n",
    "    return logits, final_state\n",
    "\n",
    "\n",
    "\"\"\"\n",
    "DON'T MODIFY ANYTHING IN THIS CELL THAT IS BELOW THIS LINE\n",
    "\"\"\"\n",
    "tests.test_build_nn(build_nn)"
   ]
  },
  {
   "cell_type": "markdown",
   "metadata": {},
   "source": [
    "### Batches\n",
    "Implement `get_batches` to create batches of input and targets using `int_text`.  The batches should be a Numpy array with the shape `(number of batches, 2, batch size, sequence length)`. Each batch contains two elements:\n",
    "- The first element is a single batch of **input** with the shape `[batch size, sequence length]`\n",
    "- The second element is a single batch of **targets** with the shape `[batch size, sequence length]`\n",
    "\n",
    "If you can't fill the last batch with enough data, drop the last batch.\n",
    "\n",
    "For exmple, `get_batches([1, 2, 3, 4, 5, 6, 7, 8, 9, 10, 11, 12, 13, 14, 15, 16, 17, 18, 19, 20], 3, 2)` would return a Numpy array of the following:\n",
    "```\n",
    "[\n",
    "  # First Batch\n",
    "  [\n",
    "    # Batch of Input\n",
    "    [[ 1  2], [ 7  8], [13 14]]\n",
    "    # Batch of targets\n",
    "    [[ 2  3], [ 8  9], [14 15]]\n",
    "  ]\n",
    "\n",
    "  # Second Batch\n",
    "  [\n",
    "    # Batch of Input\n",
    "    [[ 3  4], [ 9 10], [15 16]]\n",
    "    # Batch of targets\n",
    "    [[ 4  5], [10 11], [16 17]]\n",
    "  ]\n",
    "\n",
    "  # Third Batch\n",
    "  [\n",
    "    # Batch of Input\n",
    "    [[ 5  6], [11 12], [17 18]]\n",
    "    # Batch of targets\n",
    "    [[ 6  7], [12 13], [18  1]]\n",
    "  ]\n",
    "]\n",
    "```\n",
    "\n",
    "Notice that the last target value in the last batch is the first input value of the first batch. In this case, `1`. This is a common technique used when creating sequence batches, although it is rather unintuitive."
   ]
  },
  {
   "cell_type": "code",
   "execution_count": 13,
   "metadata": {},
   "outputs": [
    {
     "name": "stdout",
     "output_type": "stream",
     "text": [
      "Tests Passed\n"
     ]
    }
   ],
   "source": [
    "def get_batches(int_text, batch_size, seq_length):\n",
    "    \"\"\"\n",
    "    Return batches of input and target\n",
    "    :param int_text: Text with the words replaced by their ids\n",
    "    :param batch_size: The size of batch\n",
    "    :param seq_length: The length of sequence\n",
    "    :return: Batches as a Numpy array\n",
    "    \"\"\"\n",
    "    # TODO: Implement Function\n",
    "\n",
    "    number_of_batches = int(len(int_text)/(batch_size*seq_length))\n",
    "    array_length = int(number_of_batches*batch_size*seq_length)\n",
    "    \n",
    "    x_data = np.array(int_text[:array_length])\n",
    "    y_data = np.array(int_text[1:array_length+1])\n",
    "    y_data[len(y_data)-1] = x_data[0]\n",
    "    \n",
    "    x_batches = np.split(x_data.reshape(batch_size,-1),number_of_batches,1)\n",
    "    y_batches = np.split(y_data.reshape(batch_size,-1),number_of_batches,1)\n",
    "    return np.array(list(zip(x_batches,y_batches)))\n",
    "\n",
    "\n",
    "\"\"\"\n",
    "DON'T MODIFY ANYTHING IN THIS CELL THAT IS BELOW THIS LINE\n",
    "\"\"\"\n",
    "tests.test_get_batches(get_batches)"
   ]
  },
  {
   "cell_type": "markdown",
   "metadata": {},
   "source": [
    "## Neural Network Training\n",
    "### Hyperparameters\n",
    "Tune the following parameters:\n",
    "\n",
    "- Set `num_epochs` to the number of epochs.\n",
    "- Set `batch_size` to the batch size.\n",
    "- Set `rnn_size` to the size of the RNNs.\n",
    "- Set `embed_dim` to the size of the embedding.\n",
    "- Set `seq_length` to the length of sequence.\n",
    "- Set `learning_rate` to the learning rate.\n",
    "- Set `show_every_n_batches` to the number of batches the neural network should print progress."
   ]
  },
  {
   "cell_type": "code",
   "execution_count": 14,
   "metadata": {
    "collapsed": true
   },
   "outputs": [],
   "source": [
    "# Number of Epochs\n",
    "num_epochs = 100\n",
    "# Batch Size\n",
    "batch_size = 16\n",
    "# RNN Size\n",
    "rnn_size = 128\n",
    "# Embedding Dimension Size\n",
    "embed_dim = 2\n",
    "# Sequence Length\n",
    "seq_length = 10\n",
    "# Learning Rate\n",
    "learning_rate = 0.01\n",
    "# Show stats for every n number of batches\n",
    "show_every_n_batches = 100\n",
    "\n",
    "\"\"\"\n",
    "DON'T MODIFY ANYTHING IN THIS CELL THAT IS BELOW THIS LINE\n",
    "\"\"\"\n",
    "save_dir = './save'"
   ]
  },
  {
   "cell_type": "markdown",
   "metadata": {},
   "source": [
    "### Build the Graph\n",
    "Build the graph using the neural network you implemented."
   ]
  },
  {
   "cell_type": "code",
   "execution_count": 15,
   "metadata": {
    "collapsed": true
   },
   "outputs": [],
   "source": [
    "\"\"\"\n",
    "DON'T MODIFY ANYTHING IN THIS CELL\n",
    "\"\"\"\n",
    "from tensorflow.contrib import seq2seq\n",
    "\n",
    "train_graph = tf.Graph()\n",
    "with train_graph.as_default():\n",
    "    vocab_size = len(int_to_vocab)\n",
    "    input_text, targets, lr = get_inputs()\n",
    "    input_data_shape = tf.shape(input_text)\n",
    "    cell, initial_state = get_init_cell(input_data_shape[0], rnn_size)\n",
    "    logits, final_state = build_nn(cell, rnn_size, input_text, vocab_size, embed_dim)\n",
    "\n",
    "    # Probabilities for generating words\n",
    "    probs = tf.nn.softmax(logits, name='probs')\n",
    "\n",
    "    # Loss function\n",
    "    cost = seq2seq.sequence_loss(\n",
    "        logits,\n",
    "        targets,\n",
    "        tf.ones([input_data_shape[0], input_data_shape[1]]))\n",
    "\n",
    "    # Optimizer\n",
    "    optimizer = tf.train.AdamOptimizer(lr)\n",
    "\n",
    "    # Gradient Clipping\n",
    "    gradients = optimizer.compute_gradients(cost)\n",
    "    capped_gradients = [(tf.clip_by_value(grad, -1., 1.), var) for grad, var in gradients if grad is not None]\n",
    "    train_op = optimizer.apply_gradients(capped_gradients)"
   ]
  },
  {
   "cell_type": "markdown",
   "metadata": {},
   "source": [
    "## Train\n",
    "Train the neural network on the preprocessed data.  If you have a hard time getting a good loss, check the [forums](https://discussions.udacity.com/) to see if anyone is having the same problem."
   ]
  },
  {
   "cell_type": "code",
   "execution_count": 16,
   "metadata": {},
   "outputs": [
    {
     "name": "stdout",
     "output_type": "stream",
     "text": [
      "Epoch   0 Batch    0/431   train_loss = 8.820\n",
      "Epoch   0 Batch  100/431   train_loss = 5.229\n",
      "Epoch   0 Batch  200/431   train_loss = 4.931\n",
      "Epoch   0 Batch  300/431   train_loss = 5.295\n",
      "Epoch   0 Batch  400/431   train_loss = 5.114\n",
      "Epoch   1 Batch   69/431   train_loss = 4.556\n",
      "Epoch   1 Batch  169/431   train_loss = 4.722\n",
      "Epoch   1 Batch  269/431   train_loss = 3.798\n",
      "Epoch   1 Batch  369/431   train_loss = 4.418\n",
      "Epoch   2 Batch   38/431   train_loss = 4.200\n",
      "Epoch   2 Batch  138/431   train_loss = 4.465\n",
      "Epoch   2 Batch  238/431   train_loss = 3.960\n",
      "Epoch   2 Batch  338/431   train_loss = 3.612\n",
      "Epoch   3 Batch    7/431   train_loss = 3.619\n",
      "Epoch   3 Batch  107/431   train_loss = 3.588\n",
      "Epoch   3 Batch  207/431   train_loss = 3.355\n",
      "Epoch   3 Batch  307/431   train_loss = 3.475\n",
      "Epoch   3 Batch  407/431   train_loss = 3.296\n",
      "Epoch   4 Batch   76/431   train_loss = 3.369\n",
      "Epoch   4 Batch  176/431   train_loss = 3.461\n",
      "Epoch   4 Batch  276/431   train_loss = 3.343\n",
      "Epoch   4 Batch  376/431   train_loss = 3.230\n",
      "Epoch   5 Batch   45/431   train_loss = 3.321\n",
      "Epoch   5 Batch  145/431   train_loss = 3.243\n",
      "Epoch   5 Batch  245/431   train_loss = 3.177\n",
      "Epoch   5 Batch  345/431   train_loss = 3.015\n",
      "Epoch   6 Batch   14/431   train_loss = 3.164\n",
      "Epoch   6 Batch  114/431   train_loss = 2.705\n",
      "Epoch   6 Batch  214/431   train_loss = 2.872\n",
      "Epoch   6 Batch  314/431   train_loss = 2.764\n",
      "Epoch   6 Batch  414/431   train_loss = 2.717\n",
      "Epoch   7 Batch   83/431   train_loss = 3.111\n",
      "Epoch   7 Batch  183/431   train_loss = 2.784\n",
      "Epoch   7 Batch  283/431   train_loss = 2.670\n",
      "Epoch   7 Batch  383/431   train_loss = 2.509\n",
      "Epoch   8 Batch   52/431   train_loss = 2.911\n",
      "Epoch   8 Batch  152/431   train_loss = 3.003\n",
      "Epoch   8 Batch  252/431   train_loss = 2.468\n",
      "Epoch   8 Batch  352/431   train_loss = 2.495\n",
      "Epoch   9 Batch   21/431   train_loss = 2.491\n",
      "Epoch   9 Batch  121/431   train_loss = 2.844\n",
      "Epoch   9 Batch  221/431   train_loss = 2.566\n",
      "Epoch   9 Batch  321/431   train_loss = 2.720\n",
      "Epoch   9 Batch  421/431   train_loss = 2.536\n",
      "Epoch  10 Batch   90/431   train_loss = 2.762\n",
      "Epoch  10 Batch  190/431   train_loss = 2.423\n",
      "Epoch  10 Batch  290/431   train_loss = 2.270\n",
      "Epoch  10 Batch  390/431   train_loss = 2.001\n",
      "Epoch  11 Batch   59/431   train_loss = 2.594\n",
      "Epoch  11 Batch  159/431   train_loss = 2.154\n",
      "Epoch  11 Batch  259/431   train_loss = 2.467\n",
      "Epoch  11 Batch  359/431   train_loss = 2.483\n",
      "Epoch  12 Batch   28/431   train_loss = 2.027\n",
      "Epoch  12 Batch  128/431   train_loss = 2.325\n",
      "Epoch  12 Batch  228/431   train_loss = 2.282\n",
      "Epoch  12 Batch  328/431   train_loss = 2.215\n",
      "Epoch  12 Batch  428/431   train_loss = 2.209\n",
      "Epoch  13 Batch   97/431   train_loss = 2.481\n",
      "Epoch  13 Batch  197/431   train_loss = 2.373\n",
      "Epoch  13 Batch  297/431   train_loss = 1.957\n",
      "Epoch  13 Batch  397/431   train_loss = 2.170\n",
      "Epoch  14 Batch   66/431   train_loss = 2.308\n",
      "Epoch  14 Batch  166/431   train_loss = 2.481\n",
      "Epoch  14 Batch  266/431   train_loss = 1.926\n",
      "Epoch  14 Batch  366/431   train_loss = 2.088\n",
      "Epoch  15 Batch   35/431   train_loss = 2.221\n",
      "Epoch  15 Batch  135/431   train_loss = 2.246\n",
      "Epoch  15 Batch  235/431   train_loss = 2.198\n",
      "Epoch  15 Batch  335/431   train_loss = 2.077\n",
      "Epoch  16 Batch    4/431   train_loss = 2.025\n",
      "Epoch  16 Batch  104/431   train_loss = 2.191\n",
      "Epoch  16 Batch  204/431   train_loss = 2.207\n",
      "Epoch  16 Batch  304/431   train_loss = 2.162\n",
      "Epoch  16 Batch  404/431   train_loss = 2.195\n",
      "Epoch  17 Batch   73/431   train_loss = 2.167\n",
      "Epoch  17 Batch  173/431   train_loss = 2.041\n",
      "Epoch  17 Batch  273/431   train_loss = 2.254\n",
      "Epoch  17 Batch  373/431   train_loss = 1.980\n",
      "Epoch  18 Batch   42/431   train_loss = 1.802\n",
      "Epoch  18 Batch  142/431   train_loss = 2.025\n",
      "Epoch  18 Batch  242/431   train_loss = 1.828\n",
      "Epoch  18 Batch  342/431   train_loss = 1.756\n",
      "Epoch  19 Batch   11/431   train_loss = 2.019\n",
      "Epoch  19 Batch  111/431   train_loss = 2.116\n",
      "Epoch  19 Batch  211/431   train_loss = 1.947\n",
      "Epoch  19 Batch  311/431   train_loss = 1.991\n",
      "Epoch  19 Batch  411/431   train_loss = 1.993\n",
      "Epoch  20 Batch   80/431   train_loss = 1.859\n",
      "Epoch  20 Batch  180/431   train_loss = 1.797\n",
      "Epoch  20 Batch  280/431   train_loss = 2.134\n",
      "Epoch  20 Batch  380/431   train_loss = 2.236\n",
      "Epoch  21 Batch   49/431   train_loss = 2.087\n",
      "Epoch  21 Batch  149/431   train_loss = 1.867\n",
      "Epoch  21 Batch  249/431   train_loss = 1.975\n",
      "Epoch  21 Batch  349/431   train_loss = 1.964\n",
      "Epoch  22 Batch   18/431   train_loss = 2.017\n",
      "Epoch  22 Batch  118/431   train_loss = 1.868\n",
      "Epoch  22 Batch  218/431   train_loss = 2.068\n",
      "Epoch  22 Batch  318/431   train_loss = 1.982\n",
      "Epoch  22 Batch  418/431   train_loss = 1.944\n",
      "Epoch  23 Batch   87/431   train_loss = 2.010\n",
      "Epoch  23 Batch  187/431   train_loss = 2.002\n",
      "Epoch  23 Batch  287/431   train_loss = 1.919\n",
      "Epoch  23 Batch  387/431   train_loss = 1.727\n",
      "Epoch  24 Batch   56/431   train_loss = 1.522\n",
      "Epoch  24 Batch  156/431   train_loss = 2.097\n",
      "Epoch  24 Batch  256/431   train_loss = 1.944\n",
      "Epoch  24 Batch  356/431   train_loss = 2.039\n",
      "Epoch  25 Batch   25/431   train_loss = 1.749\n",
      "Epoch  25 Batch  125/431   train_loss = 1.625\n",
      "Epoch  25 Batch  225/431   train_loss = 1.964\n",
      "Epoch  25 Batch  325/431   train_loss = 1.891\n",
      "Epoch  25 Batch  425/431   train_loss = 1.975\n",
      "Epoch  26 Batch   94/431   train_loss = 1.951\n",
      "Epoch  26 Batch  194/431   train_loss = 1.889\n",
      "Epoch  26 Batch  294/431   train_loss = 2.143\n",
      "Epoch  26 Batch  394/431   train_loss = 1.583\n",
      "Epoch  27 Batch   63/431   train_loss = 1.964\n",
      "Epoch  27 Batch  163/431   train_loss = 1.871\n",
      "Epoch  27 Batch  263/431   train_loss = 1.966\n",
      "Epoch  27 Batch  363/431   train_loss = 2.084\n",
      "Epoch  28 Batch   32/431   train_loss = 1.733\n",
      "Epoch  28 Batch  132/431   train_loss = 1.759\n",
      "Epoch  28 Batch  232/431   train_loss = 1.768\n",
      "Epoch  28 Batch  332/431   train_loss = 1.765\n",
      "Epoch  29 Batch    1/431   train_loss = 1.822\n",
      "Epoch  29 Batch  101/431   train_loss = 1.863\n",
      "Epoch  29 Batch  201/431   train_loss = 1.773\n",
      "Epoch  29 Batch  301/431   train_loss = 1.760\n",
      "Epoch  29 Batch  401/431   train_loss = 2.008\n",
      "Epoch  30 Batch   70/431   train_loss = 1.803\n",
      "Epoch  30 Batch  170/431   train_loss = 1.596\n",
      "Epoch  30 Batch  270/431   train_loss = 2.246\n",
      "Epoch  30 Batch  370/431   train_loss = 1.783\n",
      "Epoch  31 Batch   39/431   train_loss = 2.121\n",
      "Epoch  31 Batch  139/431   train_loss = 1.708\n",
      "Epoch  31 Batch  239/431   train_loss = 1.804\n",
      "Epoch  31 Batch  339/431   train_loss = 1.903\n",
      "Epoch  32 Batch    8/431   train_loss = 2.187\n",
      "Epoch  32 Batch  108/431   train_loss = 1.788\n",
      "Epoch  32 Batch  208/431   train_loss = 1.782\n",
      "Epoch  32 Batch  308/431   train_loss = 1.873\n",
      "Epoch  32 Batch  408/431   train_loss = 1.910\n",
      "Epoch  33 Batch   77/431   train_loss = 1.843\n",
      "Epoch  33 Batch  177/431   train_loss = 1.800\n",
      "Epoch  33 Batch  277/431   train_loss = 1.654\n",
      "Epoch  33 Batch  377/431   train_loss = 1.769\n",
      "Epoch  34 Batch   46/431   train_loss = 1.697\n",
      "Epoch  34 Batch  146/431   train_loss = 1.676\n",
      "Epoch  34 Batch  246/431   train_loss = 1.989\n",
      "Epoch  34 Batch  346/431   train_loss = 1.630\n",
      "Epoch  35 Batch   15/431   train_loss = 1.763\n",
      "Epoch  35 Batch  115/431   train_loss = 1.743\n",
      "Epoch  35 Batch  215/431   train_loss = 1.584\n",
      "Epoch  35 Batch  315/431   train_loss = 1.774\n",
      "Epoch  35 Batch  415/431   train_loss = 1.815\n",
      "Epoch  36 Batch   84/431   train_loss = 1.885\n",
      "Epoch  36 Batch  184/431   train_loss = 1.712\n",
      "Epoch  36 Batch  284/431   train_loss = 1.572\n",
      "Epoch  36 Batch  384/431   train_loss = 1.449\n",
      "Epoch  37 Batch   53/431   train_loss = 1.680\n",
      "Epoch  37 Batch  153/431   train_loss = 1.764\n",
      "Epoch  37 Batch  253/431   train_loss = 1.774\n",
      "Epoch  37 Batch  353/431   train_loss = 2.043\n",
      "Epoch  38 Batch   22/431   train_loss = 1.684\n",
      "Epoch  38 Batch  122/431   train_loss = 1.963\n",
      "Epoch  38 Batch  222/431   train_loss = 1.999\n",
      "Epoch  38 Batch  322/431   train_loss = 1.637\n",
      "Epoch  38 Batch  422/431   train_loss = 1.541\n",
      "Epoch  39 Batch   91/431   train_loss = 1.937\n",
      "Epoch  39 Batch  191/431   train_loss = 2.075\n",
      "Epoch  39 Batch  291/431   train_loss = 1.653\n",
      "Epoch  39 Batch  391/431   train_loss = 1.658\n",
      "Epoch  40 Batch   60/431   train_loss = 1.728\n",
      "Epoch  40 Batch  160/431   train_loss = 1.691\n",
      "Epoch  40 Batch  260/431   train_loss = 1.656\n",
      "Epoch  40 Batch  360/431   train_loss = 1.749\n",
      "Epoch  41 Batch   29/431   train_loss = 1.488\n",
      "Epoch  41 Batch  129/431   train_loss = 1.993\n"
     ]
    },
    {
     "name": "stdout",
     "output_type": "stream",
     "text": [
      "Epoch  41 Batch  229/431   train_loss = 1.614\n",
      "Epoch  41 Batch  329/431   train_loss = 2.035\n",
      "Epoch  41 Batch  429/431   train_loss = 1.597\n",
      "Epoch  42 Batch   98/431   train_loss = 1.648\n",
      "Epoch  42 Batch  198/431   train_loss = 1.801\n",
      "Epoch  42 Batch  298/431   train_loss = 1.745\n",
      "Epoch  42 Batch  398/431   train_loss = 2.117\n",
      "Epoch  43 Batch   67/431   train_loss = 1.868\n",
      "Epoch  43 Batch  167/431   train_loss = 1.796\n",
      "Epoch  43 Batch  267/431   train_loss = 1.515\n",
      "Epoch  43 Batch  367/431   train_loss = 1.709\n",
      "Epoch  44 Batch   36/431   train_loss = 1.835\n",
      "Epoch  44 Batch  136/431   train_loss = 1.643\n",
      "Epoch  44 Batch  236/431   train_loss = 1.777\n",
      "Epoch  44 Batch  336/431   train_loss = 1.926\n",
      "Epoch  45 Batch    5/431   train_loss = 1.752\n",
      "Epoch  45 Batch  105/431   train_loss = 1.918\n",
      "Epoch  45 Batch  205/431   train_loss = 1.463\n",
      "Epoch  45 Batch  305/431   train_loss = 1.839\n",
      "Epoch  45 Batch  405/431   train_loss = 1.802\n",
      "Epoch  46 Batch   74/431   train_loss = 1.806\n",
      "Epoch  46 Batch  174/431   train_loss = 1.405\n",
      "Epoch  46 Batch  274/431   train_loss = 1.524\n",
      "Epoch  46 Batch  374/431   train_loss = 1.614\n",
      "Epoch  47 Batch   43/431   train_loss = 1.448\n",
      "Epoch  47 Batch  143/431   train_loss = 1.652\n",
      "Epoch  47 Batch  243/431   train_loss = 1.359\n",
      "Epoch  47 Batch  343/431   train_loss = 1.702\n",
      "Epoch  48 Batch   12/431   train_loss = 1.618\n",
      "Epoch  48 Batch  112/431   train_loss = 1.933\n",
      "Epoch  48 Batch  212/431   train_loss = 1.536\n",
      "Epoch  48 Batch  312/431   train_loss = 1.739\n",
      "Epoch  48 Batch  412/431   train_loss = 1.762\n",
      "Epoch  49 Batch   81/431   train_loss = 1.730\n",
      "Epoch  49 Batch  181/431   train_loss = 1.876\n",
      "Epoch  49 Batch  281/431   train_loss = 1.752\n",
      "Epoch  49 Batch  381/431   train_loss = 1.609\n",
      "Epoch  50 Batch   50/431   train_loss = 1.623\n",
      "Epoch  50 Batch  150/431   train_loss = 1.775\n",
      "Epoch  50 Batch  250/431   train_loss = 1.808\n",
      "Epoch  50 Batch  350/431   train_loss = 1.491\n",
      "Epoch  51 Batch   19/431   train_loss = 1.638\n",
      "Epoch  51 Batch  119/431   train_loss = 1.941\n",
      "Epoch  51 Batch  219/431   train_loss = 1.649\n",
      "Epoch  51 Batch  319/431   train_loss = 1.778\n",
      "Epoch  51 Batch  419/431   train_loss = 1.500\n",
      "Epoch  52 Batch   88/431   train_loss = 1.721\n",
      "Epoch  52 Batch  188/431   train_loss = 1.595\n",
      "Epoch  52 Batch  288/431   train_loss = 1.856\n",
      "Epoch  52 Batch  388/431   train_loss = 1.789\n",
      "Epoch  53 Batch   57/431   train_loss = 1.792\n",
      "Epoch  53 Batch  157/431   train_loss = 1.907\n",
      "Epoch  53 Batch  257/431   train_loss = 1.884\n",
      "Epoch  53 Batch  357/431   train_loss = 1.570\n",
      "Epoch  54 Batch   26/431   train_loss = 1.518\n",
      "Epoch  54 Batch  126/431   train_loss = 1.776\n",
      "Epoch  54 Batch  226/431   train_loss = 1.763\n",
      "Epoch  54 Batch  326/431   train_loss = 1.661\n",
      "Epoch  54 Batch  426/431   train_loss = 1.891\n",
      "Epoch  55 Batch   95/431   train_loss = 1.849\n",
      "Epoch  55 Batch  195/431   train_loss = 2.142\n",
      "Epoch  55 Batch  295/431   train_loss = 2.024\n",
      "Epoch  55 Batch  395/431   train_loss = 1.624\n",
      "Epoch  56 Batch   64/431   train_loss = 1.946\n",
      "Epoch  56 Batch  164/431   train_loss = 2.065\n",
      "Epoch  56 Batch  264/431   train_loss = 1.716\n",
      "Epoch  56 Batch  364/431   train_loss = 1.636\n",
      "Epoch  57 Batch   33/431   train_loss = 1.898\n",
      "Epoch  57 Batch  133/431   train_loss = 2.044\n",
      "Epoch  57 Batch  233/431   train_loss = 1.727\n",
      "Epoch  57 Batch  333/431   train_loss = 1.607\n",
      "Epoch  58 Batch    2/431   train_loss = 1.629\n",
      "Epoch  58 Batch  102/431   train_loss = 1.862\n",
      "Epoch  58 Batch  202/431   train_loss = 1.699\n",
      "Epoch  58 Batch  302/431   train_loss = 1.884\n",
      "Epoch  58 Batch  402/431   train_loss = 1.812\n",
      "Epoch  59 Batch   71/431   train_loss = 1.808\n",
      "Epoch  59 Batch  171/431   train_loss = 1.777\n",
      "Epoch  59 Batch  271/431   train_loss = 1.581\n",
      "Epoch  59 Batch  371/431   train_loss = 1.754\n",
      "Epoch  60 Batch   40/431   train_loss = 1.468\n",
      "Epoch  60 Batch  140/431   train_loss = 1.828\n",
      "Epoch  60 Batch  240/431   train_loss = 1.549\n",
      "Epoch  60 Batch  340/431   train_loss = 1.439\n",
      "Epoch  61 Batch    9/431   train_loss = 1.619\n",
      "Epoch  61 Batch  109/431   train_loss = 1.976\n",
      "Epoch  61 Batch  209/431   train_loss = 1.747\n",
      "Epoch  61 Batch  309/431   train_loss = 1.897\n",
      "Epoch  61 Batch  409/431   train_loss = 1.720\n",
      "Epoch  62 Batch   78/431   train_loss = 1.393\n",
      "Epoch  62 Batch  178/431   train_loss = 1.887\n",
      "Epoch  62 Batch  278/431   train_loss = 1.605\n",
      "Epoch  62 Batch  378/431   train_loss = 1.837\n",
      "Epoch  63 Batch   47/431   train_loss = 2.045\n",
      "Epoch  63 Batch  147/431   train_loss = 1.988\n",
      "Epoch  63 Batch  247/431   train_loss = 1.457\n",
      "Epoch  63 Batch  347/431   train_loss = 1.672\n",
      "Epoch  64 Batch   16/431   train_loss = 1.623\n",
      "Epoch  64 Batch  116/431   train_loss = 1.699\n",
      "Epoch  64 Batch  216/431   train_loss = 1.788\n",
      "Epoch  64 Batch  316/431   train_loss = 1.834\n",
      "Epoch  64 Batch  416/431   train_loss = 1.576\n",
      "Epoch  65 Batch   85/431   train_loss = 1.908\n",
      "Epoch  65 Batch  185/431   train_loss = 1.686\n",
      "Epoch  65 Batch  285/431   train_loss = 1.815\n",
      "Epoch  65 Batch  385/431   train_loss = 1.631\n",
      "Epoch  66 Batch   54/431   train_loss = 1.400\n",
      "Epoch  66 Batch  154/431   train_loss = 1.591\n",
      "Epoch  66 Batch  254/431   train_loss = 1.781\n",
      "Epoch  66 Batch  354/431   train_loss = 1.568\n",
      "Epoch  67 Batch   23/431   train_loss = 1.757\n",
      "Epoch  67 Batch  123/431   train_loss = 1.632\n",
      "Epoch  67 Batch  223/431   train_loss = 1.942\n",
      "Epoch  67 Batch  323/431   train_loss = 1.724\n",
      "Epoch  67 Batch  423/431   train_loss = 1.928\n",
      "Epoch  68 Batch   92/431   train_loss = 1.581\n",
      "Epoch  68 Batch  192/431   train_loss = 1.580\n",
      "Epoch  68 Batch  292/431   train_loss = 1.739\n",
      "Epoch  68 Batch  392/431   train_loss = 1.720\n",
      "Epoch  69 Batch   61/431   train_loss = 1.658\n",
      "Epoch  69 Batch  161/431   train_loss = 1.576\n",
      "Epoch  69 Batch  261/431   train_loss = 1.679\n",
      "Epoch  69 Batch  361/431   train_loss = 1.825\n",
      "Epoch  70 Batch   30/431   train_loss = 1.575\n",
      "Epoch  70 Batch  130/431   train_loss = 1.707\n",
      "Epoch  70 Batch  230/431   train_loss = 1.699\n",
      "Epoch  70 Batch  330/431   train_loss = 1.641\n",
      "Epoch  70 Batch  430/431   train_loss = 1.792\n",
      "Epoch  71 Batch   99/431   train_loss = 1.522\n",
      "Epoch  71 Batch  199/431   train_loss = 1.734\n",
      "Epoch  71 Batch  299/431   train_loss = 1.529\n",
      "Epoch  71 Batch  399/431   train_loss = 1.738\n",
      "Epoch  72 Batch   68/431   train_loss = 1.904\n",
      "Epoch  72 Batch  168/431   train_loss = 1.723\n",
      "Epoch  72 Batch  268/431   train_loss = 1.524\n",
      "Epoch  72 Batch  368/431   train_loss = 1.586\n",
      "Epoch  73 Batch   37/431   train_loss = 1.796\n",
      "Epoch  73 Batch  137/431   train_loss = 1.637\n",
      "Epoch  73 Batch  237/431   train_loss = 1.869\n",
      "Epoch  73 Batch  337/431   train_loss = 1.751\n",
      "Epoch  74 Batch    6/431   train_loss = 1.728\n",
      "Epoch  74 Batch  106/431   train_loss = 1.982\n",
      "Epoch  74 Batch  206/431   train_loss = 1.838\n",
      "Epoch  74 Batch  306/431   train_loss = 1.674\n",
      "Epoch  74 Batch  406/431   train_loss = 1.688\n",
      "Epoch  75 Batch   75/431   train_loss = 1.685\n",
      "Epoch  75 Batch  175/431   train_loss = 1.896\n",
      "Epoch  75 Batch  275/431   train_loss = 1.871\n",
      "Epoch  75 Batch  375/431   train_loss = 1.523\n",
      "Epoch  76 Batch   44/431   train_loss = 1.725\n",
      "Epoch  76 Batch  144/431   train_loss = 2.101\n",
      "Epoch  76 Batch  244/431   train_loss = 1.817\n",
      "Epoch  76 Batch  344/431   train_loss = 1.503\n",
      "Epoch  77 Batch   13/431   train_loss = 1.806\n",
      "Epoch  77 Batch  113/431   train_loss = 1.859\n",
      "Epoch  77 Batch  213/431   train_loss = 1.861\n",
      "Epoch  77 Batch  313/431   train_loss = 1.542\n",
      "Epoch  77 Batch  413/431   train_loss = 1.599\n",
      "Epoch  78 Batch   82/431   train_loss = 1.352\n",
      "Epoch  78 Batch  182/431   train_loss = 1.812\n",
      "Epoch  78 Batch  282/431   train_loss = 1.742\n",
      "Epoch  78 Batch  382/431   train_loss = 1.667\n",
      "Epoch  79 Batch   51/431   train_loss = 1.480\n",
      "Epoch  79 Batch  151/431   train_loss = 1.894\n",
      "Epoch  79 Batch  251/431   train_loss = 1.483\n",
      "Epoch  79 Batch  351/431   train_loss = 1.608\n",
      "Epoch  80 Batch   20/431   train_loss = 1.575\n",
      "Epoch  80 Batch  120/431   train_loss = 1.672\n",
      "Epoch  80 Batch  220/431   train_loss = 1.577\n",
      "Epoch  80 Batch  320/431   train_loss = 1.464\n",
      "Epoch  80 Batch  420/431   train_loss = 1.643\n",
      "Epoch  81 Batch   89/431   train_loss = 1.866\n",
      "Epoch  81 Batch  189/431   train_loss = 1.895\n",
      "Epoch  81 Batch  289/431   train_loss = 1.658\n",
      "Epoch  81 Batch  389/431   train_loss = 1.763\n",
      "Epoch  82 Batch   58/431   train_loss = 1.764\n",
      "Epoch  82 Batch  158/431   train_loss = 1.724\n",
      "Epoch  82 Batch  258/431   train_loss = 1.835\n",
      "Epoch  82 Batch  358/431   train_loss = 1.933\n"
     ]
    },
    {
     "name": "stdout",
     "output_type": "stream",
     "text": [
      "Epoch  83 Batch   27/431   train_loss = 1.629\n",
      "Epoch  83 Batch  127/431   train_loss = 1.781\n",
      "Epoch  83 Batch  227/431   train_loss = 1.737\n",
      "Epoch  83 Batch  327/431   train_loss = 1.936\n",
      "Epoch  83 Batch  427/431   train_loss = 1.657\n",
      "Epoch  84 Batch   96/431   train_loss = 1.434\n",
      "Epoch  84 Batch  196/431   train_loss = 1.713\n",
      "Epoch  84 Batch  296/431   train_loss = 2.133\n",
      "Epoch  84 Batch  396/431   train_loss = 1.589\n",
      "Epoch  85 Batch   65/431   train_loss = 1.534\n",
      "Epoch  85 Batch  165/431   train_loss = 1.619\n",
      "Epoch  85 Batch  265/431   train_loss = 1.824\n",
      "Epoch  85 Batch  365/431   train_loss = 1.617\n",
      "Epoch  86 Batch   34/431   train_loss = 1.604\n",
      "Epoch  86 Batch  134/431   train_loss = 1.489\n",
      "Epoch  86 Batch  234/431   train_loss = 1.585\n",
      "Epoch  86 Batch  334/431   train_loss = 1.810\n",
      "Epoch  87 Batch    3/431   train_loss = 1.508\n",
      "Epoch  87 Batch  103/431   train_loss = 1.866\n",
      "Epoch  87 Batch  203/431   train_loss = 1.896\n",
      "Epoch  87 Batch  303/431   train_loss = 1.980\n",
      "Epoch  87 Batch  403/431   train_loss = 1.823\n",
      "Epoch  88 Batch   72/431   train_loss = 1.785\n",
      "Epoch  88 Batch  172/431   train_loss = 1.648\n",
      "Epoch  88 Batch  272/431   train_loss = 1.691\n",
      "Epoch  88 Batch  372/431   train_loss = 1.568\n",
      "Epoch  89 Batch   41/431   train_loss = 1.689\n",
      "Epoch  89 Batch  141/431   train_loss = 1.836\n",
      "Epoch  89 Batch  241/431   train_loss = 1.452\n",
      "Epoch  89 Batch  341/431   train_loss = 1.509\n",
      "Epoch  90 Batch   10/431   train_loss = 1.594\n",
      "Epoch  90 Batch  110/431   train_loss = 1.643\n",
      "Epoch  90 Batch  210/431   train_loss = 2.030\n",
      "Epoch  90 Batch  310/431   train_loss = 1.517\n",
      "Epoch  90 Batch  410/431   train_loss = 1.665\n",
      "Epoch  91 Batch   79/431   train_loss = 1.731\n",
      "Epoch  91 Batch  179/431   train_loss = 2.000\n",
      "Epoch  91 Batch  279/431   train_loss = 1.686\n",
      "Epoch  91 Batch  379/431   train_loss = 1.616\n",
      "Epoch  92 Batch   48/431   train_loss = 1.586\n",
      "Epoch  92 Batch  148/431   train_loss = 1.754\n",
      "Epoch  92 Batch  248/431   train_loss = 1.569\n",
      "Epoch  92 Batch  348/431   train_loss = 2.321\n",
      "Epoch  93 Batch   17/431   train_loss = 1.924\n",
      "Epoch  93 Batch  117/431   train_loss = 1.764\n",
      "Epoch  93 Batch  217/431   train_loss = 1.502\n",
      "Epoch  93 Batch  317/431   train_loss = 1.805\n",
      "Epoch  93 Batch  417/431   train_loss = 1.678\n",
      "Epoch  94 Batch   86/431   train_loss = 1.720\n",
      "Epoch  94 Batch  186/431   train_loss = 1.618\n",
      "Epoch  94 Batch  286/431   train_loss = 1.888\n",
      "Epoch  94 Batch  386/431   train_loss = 1.575\n",
      "Epoch  95 Batch   55/431   train_loss = 1.479\n",
      "Epoch  95 Batch  155/431   train_loss = 1.890\n",
      "Epoch  95 Batch  255/431   train_loss = 1.863\n",
      "Epoch  95 Batch  355/431   train_loss = 1.640\n",
      "Epoch  96 Batch   24/431   train_loss = 1.938\n",
      "Epoch  96 Batch  124/431   train_loss = 1.752\n",
      "Epoch  96 Batch  224/431   train_loss = 1.547\n",
      "Epoch  96 Batch  324/431   train_loss = 1.675\n",
      "Epoch  96 Batch  424/431   train_loss = 1.924\n",
      "Epoch  97 Batch   93/431   train_loss = 1.813\n",
      "Epoch  97 Batch  193/431   train_loss = 1.997\n",
      "Epoch  97 Batch  293/431   train_loss = 2.191\n",
      "Epoch  97 Batch  393/431   train_loss = 1.857\n",
      "Epoch  98 Batch   62/431   train_loss = 1.827\n",
      "Epoch  98 Batch  162/431   train_loss = 1.673\n",
      "Epoch  98 Batch  262/431   train_loss = 1.745\n",
      "Epoch  98 Batch  362/431   train_loss = 1.932\n",
      "Epoch  99 Batch   31/431   train_loss = 1.591\n",
      "Epoch  99 Batch  131/431   train_loss = 1.511\n",
      "Epoch  99 Batch  231/431   train_loss = 1.843\n",
      "Epoch  99 Batch  331/431   train_loss = 1.875\n",
      "Model Trained and Saved\n"
     ]
    }
   ],
   "source": [
    "\"\"\"\n",
    "DON'T MODIFY ANYTHING IN THIS CELL\n",
    "\"\"\"\n",
    "batches = get_batches(int_text, batch_size, seq_length)\n",
    "\n",
    "with tf.Session(graph=train_graph) as sess:\n",
    "    sess.run(tf.global_variables_initializer())\n",
    "\n",
    "    for epoch_i in range(num_epochs):\n",
    "        state = sess.run(initial_state, {input_text: batches[0][0]})\n",
    "\n",
    "        for batch_i, (x, y) in enumerate(batches):\n",
    "            feed = {\n",
    "                input_text: x,\n",
    "                targets: y,\n",
    "                initial_state: state,\n",
    "                lr: learning_rate}\n",
    "            train_loss, state, _ = sess.run([cost, final_state, train_op], feed)\n",
    "\n",
    "            # Show every <show_every_n_batches> batches\n",
    "            if (epoch_i * len(batches) + batch_i) % show_every_n_batches == 0:\n",
    "                print('Epoch {:>3} Batch {:>4}/{}   train_loss = {:.3f}'.format(\n",
    "                    epoch_i,\n",
    "                    batch_i,\n",
    "                    len(batches),\n",
    "                    train_loss))\n",
    "\n",
    "    # Save Model\n",
    "    saver = tf.train.Saver()\n",
    "    saver.save(sess, save_dir)\n",
    "    print('Model Trained and Saved')"
   ]
  },
  {
   "cell_type": "markdown",
   "metadata": {},
   "source": [
    "## Save Parameters\n",
    "Save `seq_length` and `save_dir` for generating a new TV script."
   ]
  },
  {
   "cell_type": "code",
   "execution_count": 17,
   "metadata": {
    "collapsed": true
   },
   "outputs": [],
   "source": [
    "\"\"\"\n",
    "DON'T MODIFY ANYTHING IN THIS CELL\n",
    "\"\"\"\n",
    "# Save parameters for checkpoint\n",
    "helper.save_params((seq_length, save_dir))"
   ]
  },
  {
   "cell_type": "markdown",
   "metadata": {},
   "source": [
    "# Checkpoint"
   ]
  },
  {
   "cell_type": "code",
   "execution_count": 18,
   "metadata": {
    "collapsed": true
   },
   "outputs": [],
   "source": [
    "\"\"\"\n",
    "DON'T MODIFY ANYTHING IN THIS CELL\n",
    "\"\"\"\n",
    "import tensorflow as tf\n",
    "import numpy as np\n",
    "import helper\n",
    "import problem_unittests as tests\n",
    "\n",
    "_, vocab_to_int, int_to_vocab, token_dict = helper.load_preprocess()\n",
    "seq_length, load_dir = helper.load_params()"
   ]
  },
  {
   "cell_type": "markdown",
   "metadata": {},
   "source": [
    "## Implement Generate Functions\n",
    "### Get Tensors\n",
    "Get tensors from `loaded_graph` using the function [`get_tensor_by_name()`](https://www.tensorflow.org/api_docs/python/tf/Graph#get_tensor_by_name).  Get the tensors using the following names:\n",
    "- \"input:0\"\n",
    "- \"initial_state:0\"\n",
    "- \"final_state:0\"\n",
    "- \"probs:0\"\n",
    "\n",
    "Return the tensors in the following tuple `(InputTensor, InitialStateTensor, FinalStateTensor, ProbsTensor)` "
   ]
  },
  {
   "cell_type": "code",
   "execution_count": 19,
   "metadata": {},
   "outputs": [
    {
     "name": "stdout",
     "output_type": "stream",
     "text": [
      "Tests Passed\n"
     ]
    }
   ],
   "source": [
    "def get_tensors(loaded_graph):\n",
    "    \"\"\"\n",
    "    Get input, initial state, final state, and probabilities tensor from <loaded_graph>\n",
    "    :param loaded_graph: TensorFlow graph loaded from file\n",
    "    :return: Tuple (InputTensor, InitialStateTensor, FinalStateTensor, ProbsTensor)\n",
    "    \"\"\"\n",
    "    # TODO: Implement Function\n",
    "    InputTensor = loaded_graph.get_tensor_by_name(\"input:0\")\n",
    "    InitialStateTensor = loaded_graph.get_tensor_by_name(\"initial_state:0\")\n",
    "    FinalStateTensor = loaded_graph.get_tensor_by_name(\"final_state:0\")\n",
    "    ProbsTensor = loaded_graph.get_tensor_by_name(\"probs:0\")\n",
    "    return InputTensor, InitialStateTensor, FinalStateTensor, ProbsTensor\n",
    "\n",
    "\n",
    "\"\"\"\n",
    "DON'T MODIFY ANYTHING IN THIS CELL THAT IS BELOW THIS LINE\n",
    "\"\"\"\n",
    "tests.test_get_tensors(get_tensors)"
   ]
  },
  {
   "cell_type": "markdown",
   "metadata": {},
   "source": [
    "### Choose Word\n",
    "Implement the `pick_word()` function to select the next word using `probabilities`."
   ]
  },
  {
   "cell_type": "code",
   "execution_count": 20,
   "metadata": {},
   "outputs": [
    {
     "name": "stdout",
     "output_type": "stream",
     "text": [
      "Tests Passed\n"
     ]
    }
   ],
   "source": [
    "def pick_word(probabilities, int_to_vocab):\n",
    "    \"\"\"\n",
    "    Pick the next word in the generated text\n",
    "    :param probabilities: Probabilites of the next word\n",
    "    :param int_to_vocab: Dictionary of word ids as the keys and words as the values\n",
    "    :return: String of the predicted word\n",
    "    \"\"\"\n",
    "    # TODO: Implement Function\n",
    "    index = np.random.choice(len(probabilities),p=probabilities)\n",
    "    predicted_word = int_to_vocab[index]\n",
    "    return predicted_word\n",
    "\n",
    "\n",
    "\"\"\"\n",
    "DON'T MODIFY ANYTHING IN THIS CELL THAT IS BELOW THIS LINE\n",
    "\"\"\"\n",
    "tests.test_pick_word(pick_word)"
   ]
  },
  {
   "cell_type": "markdown",
   "metadata": {},
   "source": [
    "## Generate TV Script\n",
    "This will generate the TV script for you.  Set `gen_length` to the length of TV script you want to generate."
   ]
  },
  {
   "cell_type": "code",
   "execution_count": 21,
   "metadata": {},
   "outputs": [
    {
     "name": "stdout",
     "output_type": "stream",
     "text": [
      "INFO:tensorflow:Restoring parameters from ./save\n",
      "moe_szyslak: i'm laughing already.\n",
      "\n",
      "\n",
      "homer_simpson: c'mon, homer. wanna hang-- and i should hear you need a little kids the raggie.\n",
      "lenny_leonard:(admiring) gee, if i helped in mouth) he nuked, seven hours. that's when i realized never your date for i haven't be dressed alcohol. / 'cause frankly, y'know for me though.\n",
      "chief_wiggum:(pissed) fine.\n",
      "homer_simpson: oh, if you know it's like a good woman can make me a ones get attention.\n",
      "carl_carlson: yes, what are you going to do? / our singing book says to fall.(beat) and then tonight!\n",
      "\n",
      "\n",
      "barney_gumble:(to chauffeur) thanks for the mr. smithers. come too. no need, the voters will decide that way i can't quite put my last day everyday! turn bart into camera. where the last fat me?\n",
      "homer_simpson: yup. can i am? you cowardly little runt.\n",
      "lenny_leonard: you had, the little cutie) no, it's like please, please! /\n"
     ]
    }
   ],
   "source": [
    "gen_length = 200\n",
    "# homer_simpson, moe_szyslak, or Barney_Gumble\n",
    "prime_word = 'moe_szyslak'\n",
    "\n",
    "\"\"\"\n",
    "DON'T MODIFY ANYTHING IN THIS CELL THAT IS BELOW THIS LINE\n",
    "\"\"\"\n",
    "loaded_graph = tf.Graph()\n",
    "with tf.Session(graph=loaded_graph) as sess:\n",
    "    # Load saved model\n",
    "    loader = tf.train.import_meta_graph(load_dir + '.meta')\n",
    "    loader.restore(sess, load_dir)\n",
    "\n",
    "    # Get Tensors from loaded model\n",
    "    input_text, initial_state, final_state, probs = get_tensors(loaded_graph)\n",
    "\n",
    "    # Sentences generation setup\n",
    "    gen_sentences = [prime_word + ':']\n",
    "    prev_state = sess.run(initial_state, {input_text: np.array([[1]])})\n",
    "\n",
    "    # Generate sentences\n",
    "    for n in range(gen_length):\n",
    "        # Dynamic Input\n",
    "        dyn_input = [[vocab_to_int[word] for word in gen_sentences[-seq_length:]]]\n",
    "        dyn_seq_length = len(dyn_input[0])\n",
    "\n",
    "        # Get Prediction\n",
    "        probabilities, prev_state = sess.run(\n",
    "            [probs, final_state],\n",
    "            {input_text: dyn_input, initial_state: prev_state})\n",
    "        \n",
    "        pred_word = pick_word(probabilities[dyn_seq_length-1], int_to_vocab)\n",
    "\n",
    "        gen_sentences.append(pred_word)\n",
    "    \n",
    "    # Remove tokens\n",
    "    tv_script = ' '.join(gen_sentences)\n",
    "    for key, token in token_dict.items():\n",
    "        ending = ' ' if key in ['\\n', '(', '\"'] else ''\n",
    "        tv_script = tv_script.replace(' ' + token.lower(), key)\n",
    "    tv_script = tv_script.replace('\\n ', '\\n')\n",
    "    tv_script = tv_script.replace('( ', '(')\n",
    "        \n",
    "    print(tv_script)"
   ]
  },
  {
   "cell_type": "markdown",
   "metadata": {},
   "source": [
    "# The TV Script is Nonsensical\n",
    "It's ok if the TV script doesn't make any sense.  We trained on less than a megabyte of text.  In order to get good results, you'll have to use a smaller vocabulary or get more data.  Luckly there's more data!  As we mentioned in the begging of this project, this is a subset of [another dataset](https://www.kaggle.com/wcukierski/the-simpsons-by-the-data).  We didn't have you train on all the data, because that would take too long.  However, you are free to train your neural network on all the data.  After you complete the project, of course.\n",
    "# Submitting This Project\n",
    "When submitting this project, make sure to run all the cells before saving the notebook. Save the notebook file as \"dlnd_tv_script_generation.ipynb\" and save it as a HTML file under \"File\" -> \"Download as\". Include the \"helper.py\" and \"problem_unittests.py\" files in your submission."
   ]
  }
 ],
 "metadata": {
  "kernelspec": {
   "display_name": "Python 3",
   "language": "python",
   "name": "python3"
  },
  "language_info": {
   "codemirror_mode": {
    "name": "ipython",
    "version": 3
   },
   "file_extension": ".py",
   "mimetype": "text/x-python",
   "name": "python",
   "nbconvert_exporter": "python",
   "pygments_lexer": "ipython3",
   "version": "3.5.3"
  }
 },
 "nbformat": 4,
 "nbformat_minor": 1
}
